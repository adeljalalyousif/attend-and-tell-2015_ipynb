{
 "cells": [
  {
   "cell_type": "code",
   "execution_count": 2,
   "metadata": {},
   "outputs": [],
   "source": [
    "import tensorflow as tf\n",
    "\n",
    "gpus = tf.config.experimental.list_physical_devices('GPU')\n",
    "if gpus:\n",
    "    try:\n",
    "        for gpu in gpus:\n",
    "            tf.config.experimental.set_memory_growth(gpu, True)\n",
    "            \n",
    "    except RuntimeError as e:\n",
    "        print(e)\n",
    "\n",
    "from helpers import load_config\n",
    "\n",
    "from sklearn.model_selection import train_test_split\n",
    "import string   \n",
    "import unicodedata\n",
    "import numpy as np\n",
    "import io\n",
    "import os\n",
    "from time import time\n",
    "\n",
    "import matplotlib.pyplot as plt\n",
    "import matplotlib.ticker as ticker"
   ]
  },
  {
   "cell_type": "code",
   "execution_count": 3,
   "metadata": {},
   "outputs": [],
   "source": [
    "config = load_config(\"config.json\")"
   ]
  },
  {
   "cell_type": "markdown",
   "metadata": {},
   "source": [
    "# Downloading Data\n",
    "\n",
    "Install the data using keras's `get_file` function"
   ]
  },
  {
   "cell_type": "code",
   "execution_count": 4,
   "metadata": {},
   "outputs": [],
   "source": [
    "dataset_params = config[\"dataset\"]\n",
    "path_to_zip = tf.keras.utils.get_file(os.path.join(os.getcwd(), \"datasets\", \"fra-eng.zip\"), origin=dataset_params[\"url\"], extract=True)\n",
    "path_to_file = os.path.join(os.path.dirname(path_to_zip), \"fra.txt\")"
   ]
  },
  {
   "cell_type": "markdown",
   "metadata": {},
   "source": [
    "# Dataset\n",
    "\n",
    "For preprocessing, we will do the following:\n",
    "\n",
    "- Clean the sentences from special characters.\n",
    "- Add starting and ending tokens.\n",
    "- Create a vocabulary.\n",
    "- Pad each sentence to the maximum.\n",
    "- Batch and prefetch."
   ]
  },
  {
   "cell_type": "code",
   "execution_count": 5,
   "metadata": {},
   "outputs": [],
   "source": [
    "def clean_sentence(sentence):\n",
    "    # make a space between each punctionation\n",
    "    sentence = sentence.translate(str.maketrans({key: \" {0} \".format(key) for key in string.punctuation}))\n",
    "    \n",
    "    sentence = sentence.strip()  # remove spaces\n",
    "    return sentence\n",
    "\n",
    "def preprocess_a_sentence(sentence):\n",
    "    # clean it\n",
    "    sentence = clean_sentence(sentence)\n",
    "    # add the start and end of sequences\n",
    "    return '<sos> {} <eos>'.format(sentence)\n",
    "\n",
    "def load_dataset(path, num_examples=None):\n",
    "    with open(path, encoding='utf-8') as f:\n",
    "        lines = f.read().strip().split(\"\\n\")\n",
    "    # list containing a set of (input, output)\n",
    "    sentence_pairs = [[preprocess_a_sentence(sen) for sen in line.split('\\t')]  for line in lines[:num_examples]]\n",
    "    return zip(*sentence_pairs)"
   ]
  },
  {
   "cell_type": "code",
   "execution_count": 6,
   "metadata": {},
   "outputs": [
    {
     "name": "stdout",
     "output_type": "stream",
     "text": [
      "<sos> Run ! <eos> <sos> Courez  ! <eos>\n"
     ]
    }
   ],
   "source": [
    "en, fr = load_dataset(path_to_file)\n",
    "print(en[3], fr[3])"
   ]
  },
  {
   "cell_type": "code",
   "execution_count": 7,
   "metadata": {},
   "outputs": [],
   "source": [
    "def get_tokenizer(lang):\n",
    "    \n",
    "    # we are keeping the punctionation\n",
    "    tokenizer = tf.keras.preprocessing.text.Tokenizer(filters='’,?!\"#$%&()*+-/:;=.@[\\\\]^_`{|}~\\t\\n')\n",
    "    tokenizer.fit_on_texts(lang)\n",
    "    \n",
    "    sequences = tokenizer.texts_to_sequences(lang)\n",
    "    # pad the tensors\n",
    "    sequences = tf.keras.preprocessing.sequence.pad_sequences(sequences, padding=\"post\")\n",
    "    return sequences, tokenizer\n",
    "\n",
    "def create_dataset(X, y, batch_size=None, buffer=False, prefetch=tf.data.experimental.AUTOTUNE):\n",
    "    a_set = tf.data.Dataset.from_tensor_slices((X, y))\n",
    "    if buffer:\n",
    "        a_set = a_set.shuffle(X.shape[0])\n",
    "    if batch_size is not None:\n",
    "        a_set = a_set.batch(batch_size, drop_remainder=True)\n",
    "    return a_set.prefetch(prefetch)\n",
    "\n",
    "def dataset(path, batch_size, num_examples=None, prefetch=tf.data.experimental.AUTOTUNE, test_size=0.2):\n",
    "    target_lang, input_lang = load_dataset(path, num_examples=num_examples)\n",
    "    \n",
    "    input_sequences, input_tokenizer = get_tokenizer(input_lang)\n",
    "    target_sequences, target_tokenizer = get_tokenizer(target_lang)\n",
    "    \n",
    "    input_train_seq, input_test_seq, target_train_seq, target_test_seq = train_test_split(input_sequences, \n",
    "                                                                                          target_sequences, \n",
    "                                                                                          test_size=test_size)\n",
    "    \n",
    "    train_set = create_dataset(input_train_seq, target_train_seq, \n",
    "                               batch_size=batch_size, buffer=True,\n",
    "                               prefetch=prefetch)\n",
    "    test_set = create_dataset(input_test_seq, target_test_seq, prefetch=prefetch)\n",
    "    return train_set, test_set, input_train_seq.shape[0], input_tokenizer, target_tokenizer"
   ]
  },
  {
   "cell_type": "code",
   "execution_count": 8,
   "metadata": {},
   "outputs": [],
   "source": [
    "batch_size = dataset_params[\"batch_size\"]\n",
    "num_examples = dataset_params[\"num_examples\"]\n",
    "train_set, test_set, train_size, input_tokenizer, target_tokenizer = dataset(path_to_file, batch_size, num_examples=num_examples)"
   ]
  },
  {
   "cell_type": "code",
   "execution_count": 9,
   "metadata": {},
   "outputs": [
    {
     "name": "stdout",
     "output_type": "stream",
     "text": [
      "['<sos> les voleurs se répartirent le butin du casse <eos>']\n",
      "['<sos> the thieves divvied up the proceeds from their heist <eos>']\n"
     ]
    }
   ],
   "source": [
    "for x, y, in train_set.take(1):\n",
    "    i = 8\n",
    "    print(input_tokenizer.sequences_to_texts([x[i].numpy()]))\n",
    "    print(target_tokenizer.sequences_to_texts([y[i].numpy()]))"
   ]
  },
  {
   "cell_type": "markdown",
   "metadata": {},
   "source": [
    "# Build Model"
   ]
  },
  {
   "cell_type": "code",
   "execution_count": 10,
   "metadata": {},
   "outputs": [],
   "source": [
    "from model import Encoder, Decoder"
   ]
  },
  {
   "cell_type": "markdown",
   "metadata": {},
   "source": [
    "## Set params"
   ]
  },
  {
   "cell_type": "code",
   "execution_count": 11,
   "metadata": {},
   "outputs": [],
   "source": [
    "model_params = config[\"model\"]\n",
    "\n",
    "epochs = model_params[\"epochs\"]\n",
    "embedding_dim = model_params[\"embedding_dim\"]\n",
    "units = model_params[\"units\"]\n",
    "bidirectional = model_params[\"bidirectional\"]\n",
    "\n",
    "steps_per_epoch = train_size // batch_size\n",
    "input_vocab_size = len(input_tokenizer.word_index) + 1\n",
    "target_vocab_size = len(target_tokenizer.word_index) + 1"
   ]
  },
  {
   "cell_type": "code",
   "execution_count": 12,
   "metadata": {},
   "outputs": [],
   "source": [
    "encoder = Encoder(input_vocab_size, embedding_dim, units, bidirectional=bidirectional)\n",
    "decoder = Decoder(target_vocab_size, embedding_dim, units, bidirectional=bidirectional)"
   ]
  },
  {
   "cell_type": "markdown",
   "metadata": {},
   "source": [
    "## Compile Model"
   ]
  },
  {
   "cell_type": "code",
   "execution_count": 13,
   "metadata": {},
   "outputs": [],
   "source": [
    "optimizer = tf.keras.optimizers.Nadam()\n",
    "\n",
    "loss_object = tf.keras.losses.SparseCategoricalCrossentropy()\n",
    "\n",
    "train_loss = tf.keras.metrics.Mean(name='train_loss')\n",
    "\n",
    "def loss_function(real, pred):\n",
    "    # set mask True to everywhere but zero (zero is the padding)\n",
    "    mask = tf.math.logical_not(tf.math.equal(real, 0))\n",
    "    loss_ = loss_object(real, pred)\n",
    "\n",
    "    mask = tf.cast(mask, dtype=loss_.dtype)\n",
    "    loss_ *= mask\n",
    "\n",
    "    return tf.reduce_mean(loss_)"
   ]
  },
  {
   "cell_type": "markdown",
   "metadata": {},
   "source": [
    "# Training\n",
    "\n",
    "The training's steps are:\n",
    "\n",
    "1. Pass the input through the encoder and get the encoder's outputs and the states.\n",
    "\n",
    "2. The encoder output and hidden states and the decoder state's is passed to the decoder.\n",
    "\n",
    "3. We feed the encoder's input, state and token to decoder:\n",
    "    - The decoder will spit the output and hidden state\n",
    "    - The decoder hidden state is then passed back into the model and the predictions are used to calculate the loss.\n",
    "    - Use Teacher Forcing to decide the next input to the decoder.\n",
    "    - Repeat for each time step in the decoder's input.\n",
    "4. The final step is to calculate the gradients and apply it to the optimizer and backpropagation"
   ]
  },
  {
   "cell_type": "code",
   "execution_count": 14,
   "metadata": {},
   "outputs": [],
   "source": [
    "@tf.function\n",
    "def train_step(X, y):\n",
    "    loss = 0\n",
    "    batch_size = X.shape[0]\n",
    "    \n",
    "    with tf.GradientTape() as tape:\n",
    "        enc_output, enc_hidden = encoder(X)\n",
    "        \n",
    "        dec_hidden = enc_hidden\n",
    "        # target input at the begining should only be <start>\n",
    "        dec_input = tf.expand_dims([target_tokenizer.word_index['<sos>']] * batch_size, 1)\n",
    "        \n",
    "        for t in range(1, y.shape[1]): # starting from 1 as we created the <start> above.\n",
    "            predictions, dec_hidden, _ = decoder(dec_input, dec_hidden, enc_output)\n",
    "            \n",
    "            loss += loss_function(y[:, t], predictions)  # compute the loss based on the predictions\n",
    "            \n",
    "            # using teacher forcing\n",
    "            dec_input = tf.expand_dims(y[:, t], 1)  # here we give the actual target and not the predictions as input.\n",
    "        \n",
    "    variables = encoder.trainable_variables + decoder.trainable_variables\n",
    "    gradients = tape.gradient(loss, variables)\n",
    "    optimizer.apply_gradients(zip(gradients, variables))\n",
    "    return loss"
   ]
  },
  {
   "cell_type": "code",
   "execution_count": 15,
   "metadata": {},
   "outputs": [],
   "source": [
    "def progress_bar(iteration, total, size=30):\n",
    "    running = iteration < total\n",
    "    c = \">\" if running else \"=\"\n",
    "    p = (size - 1) * iteration // total\n",
    "    fmt = \"{{:-{}d}}/{{}} [{{}}]\".format(len(str(total)))\n",
    "    params = [iteration, total, \"=\" * p + c + \".\" * (size - p - 1)]\n",
    "    return fmt.format(*params)\n",
    "\n",
    "def print_status_bar(iteration, total, loss, metrics=None, size=30):\n",
    "    metrics = \" - \".join([\"{}: {:.4f}\".format(m.name, m.result())\n",
    "                         for m in [loss] + (metrics or [])])\n",
    "    end = \"\" if iteration < total else \"\\n\"\n",
    "    print(\"\\r{} - {}\".format(progress_bar(iteration, total), metrics), end=end)"
   ]
  },
  {
   "cell_type": "code",
   "execution_count": 16,
   "metadata": {},
   "outputs": [
    {
     "name": "stdout",
     "output_type": "stream",
     "text": [
      "133704/133704 [==============================] - train_loss: 17.3503\n",
      "Time taken for 1 epoch 1520.4422907829285 sec\n",
      "\n",
      "133704/133704 [==============================] - train_loss: 13.3540\n",
      "Time taken for 1 epoch 1381.7716443538666 sec\n",
      "\n",
      "133704/133704 [==============================] - train_loss: 11.2278\n",
      "Time taken for 1 epoch 1377.736726284027 sec\n",
      "\n",
      "133704/133704 [==============================] - train_loss: 9.81902\n",
      "Time taken for 1 epoch 1370.7431738376617 sec\n",
      "\n",
      "133704/133704 [==============================] - train_loss: 8.7864\n",
      "Time taken for 1 epoch 1396.617286682129 sec\n",
      "\n",
      "133704/133704 [==============================] - train_loss: 7.9859\n",
      "Time taken for 1 epoch 1391.0873260498047 sec\n",
      "\n",
      "133704/133704 [==============================] - train_loss: 7.3409\n",
      "Time taken for 1 epoch 1385.1770024299622 sec\n",
      "\n",
      "133704/133704 [==============================] - train_loss: 6.8097\n",
      "Time taken for 1 epoch 1382.2717175483704 sec\n",
      "\n",
      "133704/133704 [==============================] - train_loss: 6.3636\n",
      "Time taken for 1 epoch 1385.778165102005 sec\n",
      "\n",
      "133704/133704 [==============================] - train_loss: 5.9831\n",
      "Time taken for 1 epoch 1383.1091723442078 sec\n",
      "\n",
      "133704/133704 [==============================] - train_loss: 5.6536\n",
      "Time taken for 1 epoch 1378.626496553421 sec\n",
      "\n",
      "133704/133704 [==============================] - train_loss: 5.3661\n",
      "Time taken for 1 epoch 1385.615556716919 sec\n",
      "\n",
      "133704/133704 [==============================] - train_loss: 5.1138\n",
      "Time taken for 1 epoch 1383.07617354393 sec\n",
      "\n",
      "133704/133704 [==============================] - train_loss: 4.8878\n",
      "Time taken for 1 epoch 1386.1235628128052 sec\n",
      "\n",
      "133704/133704 [==============================] - train_loss: 4.6863\n",
      "Time taken for 1 epoch 1379.1481158733368 sec\n",
      "\n",
      "133704/133704 [==============================] - train_loss: 4.5054\n",
      "Time taken for 1 epoch 1370.9894723892212 sec\n",
      "\n",
      "133704/133704 [==============================] - train_loss: 4.3420\n",
      "Time taken for 1 epoch 1378.5334296226501 sec\n",
      "\n",
      "133704/133704 [==============================] - train_loss: 4.1937\n",
      "Time taken for 1 epoch 1374.5290656089783 sec\n",
      "\n",
      "133704/133704 [==============================] - train_loss: 4.0587\n",
      "Time taken for 1 epoch 1376.994463443756 sec\n",
      "\n",
      "133704/133704 [==============================] - train_loss: 3.9343\n",
      "Time taken for 1 epoch 1372.31716132164 sec\n",
      "\n"
     ]
    }
   ],
   "source": [
    "for epoch in range(epochs):\n",
    "    \n",
    "    start = time()\n",
    "    \n",
    "    for (step, (X, y)) in enumerate(train_set.take(steps_per_epoch)):\n",
    "        loss = train_step(X, y)  # for each epoch, step, we are reseting the states (it is not stateful)\n",
    "        train_loss(loss)\n",
    "        \n",
    "        print_status_bar(step * batch_size, train_size, train_loss, None)\n",
    "        \n",
    "    print_status_bar(train_size, train_size, train_loss, None)\n",
    "    print('Time taken for 1 epoch {} sec\\n'.format(time() - start))"
   ]
  },
  {
   "cell_type": "markdown",
   "metadata": {},
   "source": [
    "# Evaluation\n",
    "\n",
    "To evaluate and chek the performance of the model, we will do the following:\n",
    "\n",
    "- Write evaluation function for the test data (similar to training loop but without teacher forcing.\n",
    "- Stop predicting when the model predicts the end token\n",
    "- Store the attention weights fore very time step for visualization."
   ]
  },
  {
   "cell_type": "code",
   "execution_count": 17,
   "metadata": {},
   "outputs": [],
   "source": [
    "def plot_attention(attention, sentence, predicted_sentence):\n",
    "    fig = plt.figure(figsize=(10,10))\n",
    "    ax = fig.add_subplot(1, 1, 1)\n",
    "    ax.matshow(attention, cmap='viridis')\n",
    "\n",
    "    fontdict = {'fontsize': 14}\n",
    "\n",
    "    ax.set_xticklabels([''] + sentence, fontdict=fontdict, rotation=90)\n",
    "    ax.set_yticklabels([''] + predicted_sentence, fontdict=fontdict)\n",
    "\n",
    "    ax.xaxis.set_major_locator(ticker.MultipleLocator(1))\n",
    "    ax.yaxis.set_major_locator(ticker.MultipleLocator(1))\n",
    "   \n",
    "    plt.show()\n",
    "\n",
    "\n",
    "def evaluate(inputs, max_target_pad):\n",
    "    \n",
    "    attention_plot = np.zeros((max_target_pad, inputs.shape[0]))\n",
    "    \n",
    "    # convert from words to sequence\n",
    "    \n",
    "    result = []\n",
    "    \n",
    "    # running the encoder\n",
    "    enc_output, dec_hidden = encoder(tf.expand_dims(inputs, 0))\n",
    "    \n",
    "    dec_input = tf.expand_dims([target_tokenizer.word_index['<sos>']], 0)\n",
    "    \n",
    "    for t in range(max_target_pad):\n",
    "        predictions, dec_hidden, attention_weights = decoder(dec_input, dec_hidden, enc_output)\n",
    "        \n",
    "        # storing the attention weights to plot later on\n",
    "        attention_weights = tf.reshape(attention_weights, (-1, ))\n",
    "        attention_plot[t] = attention_weights.numpy()\n",
    "        \n",
    "        predicted_id = tf.argmax(predictions[0]).numpy()\n",
    "        predicted_word = target_tokenizer.index_word[predicted_id]\n",
    "        if predicted_word  == '<eos>':\n",
    "            return \" \".join(result), attention_plot\n",
    "        \n",
    "        result.append(predicted_word)\n",
    "        \n",
    "        # the predicted ID is fed back into the model\n",
    "        dec_input = tf.expand_dims([predicted_id], 0)\n",
    "        \n",
    "    return \" \".join(result), attention_plot\n",
    "\n",
    "\n",
    "def translate(X, y):\n",
    "    sentence = input_tokenizer.sequences_to_texts([X.numpy()])[0]\n",
    "    translation = target_tokenizer.sequences_to_texts([y.numpy()])[0]\n",
    "    result, attention_plot = evaluate(X, y.shape[0])\n",
    "\n",
    "    print('Input: %s' % (sentence))\n",
    "    print('Actual translation: %s' % (translation))\n",
    "    print('Predicted translation: %s '% (result))\n",
    "\n",
    "    attention_plot = attention_plot[:len(result.split(' ')), :len(sentence.split(' '))]\n",
    "    plot_attention(attention_plot, sentence.split(' '), result.split(' '))"
   ]
  },
  {
   "cell_type": "code",
   "execution_count": 19,
   "metadata": {},
   "outputs": [
    {
     "name": "stdout",
     "output_type": "stream",
     "text": [
      "Input: <sos> je pense que nous sommes voisins <eos>\n",
      "Actual translation: <sos> i think we ' re neighbors <eos>\n",
      "Predicted translation: i think we ' re neighbors \n"
     ]
    },
    {
     "data": {
      "image/png": "[encoded data removed]",
      "text/plain": [
       "<Figure size 720x720 with 1 Axes>"
      ]
     },
     "metadata": {
      "needs_background": "light"
     },
     "output_type": "display_data"
    },
    {
     "name": "stdout",
     "output_type": "stream",
     "text": [
      "Input: <sos> où que tu ailles je te suivrai <eos>\n",
      "Actual translation: <sos> i ' ll follow you wherever you go <eos>\n",
      "Predicted translation: please do i follow you \n"
     ]
    },
    {
     "data": {
      "image/png": "[encoded data removed]",
      "text/plain": [
       "<Figure size 720x720 with 1 Axes>"
      ]
     },
     "metadata": {
      "needs_background": "light"
     },
     "output_type": "display_data"
    },
    {
     "name": "stdout",
     "output_type": "stream",
     "text": [
      "Input: <sos> les accidents arrivent lorsqu ' on s ' y attend le moins <eos>\n",
      "Actual translation: <sos> accidents will happen when they are least expected <eos>\n",
      "Predicted translation: elephants will be able to help each other \n"
     ]
    },
    {
     "data": {
      "image/png": "[encoded data removed]",
      "text/plain": [
       "<Figure size 720x720 with 1 Axes>"
      ]
     },
     "metadata": {
      "needs_background": "light"
     },
     "output_type": "display_data"
    },
    {
     "name": "stdout",
     "output_type": "stream",
     "text": [
      "Input: <sos> il n ' a pas voulu vendre l ' ouvrage <eos>\n",
      "Actual translation: <sos> he didn ' t want to sell the book <eos>\n",
      "Predicted translation: he didn ' t want to sell the book \n"
     ]
    },
    {
     "data": {
      "image/png": "[encoded data removed]",
      "text/plain": [
       "<Figure size 720x720 with 1 Axes>"
      ]
     },
     "metadata": {
      "needs_background": "light"
     },
     "output_type": "display_data"
    },
    {
     "name": "stdout",
     "output_type": "stream",
     "text": [
      "Input: <sos> je ne pense pas que j ' aurais jamais l ' air d ' un locuteur natif aussi fort que j ' essaie <eos>\n",
      "Actual translation: <sos> i don ' t think i ' ll ever sound like a native speaker no matter how much i try <eos>\n",
      "Predicted translation: i don ' t think i would ever look both recent quickly that very hard i get left \n"
     ]
    },
    {
     "data": {
      "image/png": "[encoded data removed]",
      "text/plain": [
       "<Figure size 720x720 with 1 Axes>"
      ]
     },
     "metadata": {
      "needs_background": "light"
     },
     "output_type": "display_data"
    }
   ],
   "source": [
    "for X, y in test_set.take(5):\n",
    "    translate(X, y)"
   ]
  },
  {
   "cell_type": "markdown",
   "metadata": {},
   "source": [
    "# To Dos\n",
    "\n",
    "- Use trained embedding instead of training one from scratch.\n",
    "- Use validation set during training and early exit."
   ]
  },
  {
   "cell_type": "markdown",
   "metadata": {},
   "source": [
    "# References and Further Readings\n",
    "\n",
    "- [Neural Machine Translation by Jointly Learning to Align and Translate](https://arxiv.org/abs/1409.0473)\n",
    "- [Neural Machine Translation with Attention](https://www.tensorflow.org/tutorials/text/nmt_with_attention)\n",
    "- [Hands-on Machine Learning With Scikit-Learn, Keras & Tensorflow](https://github.com/ageron/handson-ml2)"
   ]
  },
  {
   "cell_type": "code",
   "execution_count": null,
   "metadata": {},
   "outputs": [],
   "source": []
  }
 ],
 "metadata": {
  "kernelspec": {
   "display_name": "Python 3",
   "language": "python",
   "name": "python3"
  },
  "language_info": {
   "codemirror_mode": {
    "name": "ipython",
    "version": 3
   },
   "file_extension": ".py",
   "mimetype": "text/x-python",
   "name": "python",
   "nbconvert_exporter": "python",
   "pygments_lexer": "ipython3",
   "version": "3.7.6"
  }
 },
 "nbformat": 4,
 "nbformat_minor": 4
}
