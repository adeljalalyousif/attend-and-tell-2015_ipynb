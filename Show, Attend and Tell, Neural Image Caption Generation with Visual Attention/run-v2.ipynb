{
 "cells": [
  {
   "cell_type": "code",
   "execution_count": 1,
   "metadata": {},
   "outputs": [],
   "source": [
    "%load_ext autoreload\n",
    "%autoreload 2"
   ]
  },
  {
   "cell_type": "code",
   "execution_count": 2,
   "metadata": {},
   "outputs": [],
   "source": [
    "import tensorflow as tf\n",
    "\n",
    "gpus = tf.config.experimental.list_physical_devices('GPU')\n",
    "if gpus:\n",
    "    try:\n",
    "        for gpu in gpus:\n",
    "            tf.config.experimental.set_memory_growth(gpu, True)\n",
    "            \n",
    "    except RuntimeError as e:\n",
    "        print(e)\n",
    "\n",
    "import matplotlib.pyplot as plt\n",
    "\n",
    "from sklearn.model_selection import train_test_split\n",
    "from sklearn.utils import shuffle\n",
    "\n",
    "import re\n",
    "import numpy as np\n",
    "from time import time\n",
    "import json\n",
    "from glob import glob\n",
    "from PIL import Image\n",
    "import pickle\n",
    "from functools import lru_cache\n",
    "import os\n",
    "\n",
    "# the compute_blue implementation is taken from:\n",
    "# https://github.com/tensorflow/models/blob/master/official/nlp/transformer/compute_bleu.py\n",
    "from helpers.evaluation import compute_bleu\n",
    "from helpers.files import load_config"
   ]
  },
  {
   "cell_type": "code",
   "execution_count": 3,
   "metadata": {},
   "outputs": [],
   "source": [
    "config = load_config('config.json')"
   ]
  },
  {
   "cell_type": "markdown",
   "metadata": {},
   "source": [
    "# Download Data"
   ]
  },
  {
   "cell_type": "code",
   "execution_count": 4,
   "metadata": {},
   "outputs": [],
   "source": [
    "# Download caption annotation files\n",
    "dataset_config = config['dataset']\n",
    "annotation_folder = '/annotations/'\n",
    "if not os.path.exists(os.path.abspath('./datasets') + annotation_folder):\n",
    "    annotation_zip = tf.keras.utils.get_file('captions.zip',\n",
    "                                          cache_subdir=os.path.abspath('./datasets'),\n",
    "                                          origin = dataset_config['annotation_url'],\n",
    "                                          extract = True)\n",
    "    os.remove(annotation_zip)\n",
    "    annotation_file = os.path.dirname(annotation_folder) + '/annotations/captions_train2014.json'\n",
    "else:\n",
    "    annotation_file = './datasets/annotations/captions_train2014.json'\n",
    "\n",
    "# Download image files\n",
    "image_folder = '/train2014/'\n",
    "if not os.path.exists(os.path.abspath('./datasets') + image_folder):\n",
    "    image_zip = tf.keras.utils.get_file('train2014.zip',\n",
    "                                      cache_subdir=os.path.abspath('./datasets'),\n",
    "                                      origin = dataset_config['images_url'],\n",
    "                                      extract = True)\n",
    "    PATH = os.path.dirname(image_zip) + image_folder\n",
    "    os.remove(image_zip)\n",
    "else:\n",
    "    PATH = os.path.abspath('./datasets') + image_folder"
   ]
  },
  {
   "cell_type": "markdown",
   "metadata": {},
   "source": [
    "# Load Dataset"
   ]
  },
  {
   "cell_type": "code",
   "execution_count": 5,
   "metadata": {},
   "outputs": [],
   "source": [
    "with open(annotation_file, 'r') as f:\n",
    "        annotations = json.load(f)\n",
    "\n",
    "def load_dataset(annotations, shuffle=True, \n",
    "                 test_size=0.2, num_examples=None):\n",
    "\n",
    "    # variables to store the images url and their corresponding captions.\n",
    "    all_captions = []\n",
    "    all_img_id_vector = []\n",
    "\n",
    "    # for each annotation add sos and eos tokens and map \n",
    "    for annotation in annotations['annotations']:\n",
    "        caption = '<sos> ' + annotation['caption'] + ' <eos>'\n",
    "        image_id = annotation['image_id']\n",
    "        all_img_id_vector.append(image_id)\n",
    "        all_captions.append(caption)\n",
    "    \n",
    "    train_imgs, test_imgs, train_captions, test_captions = train_test_split(all_img_id_vector[:num_examples],\n",
    "                                                                            all_captions[:num_examples], \n",
    "                                                                            test_size=test_size, shuffle=shuffle)\n",
    "    \n",
    "    return train_imgs, test_imgs, train_captions, test_captions"
   ]
  },
  {
   "cell_type": "code",
   "execution_count": 6,
   "metadata": {},
   "outputs": [],
   "source": [
    "num_examples = dataset_config['num_examples']\n",
    "X_train, X_test, y_train, y_test = load_dataset(annotations, num_examples=num_examples)\n",
    "# create training and validation sets\n",
    "X_train, X_valid, y_train, y_valid = train_test_split(X_train, y_train, test_size=0.01)"
   ]
  },
  {
   "cell_type": "code",
   "execution_count": 51,
   "metadata": {},
   "outputs": [],
   "source": [
    "@lru_cache(maxsize=256)\n",
    "def get_all_captions_by_image_id(image_id, tokenizer=None):\n",
    "    captions = []\n",
    "    for caption in annotations['annotations']:\n",
    "        if caption['image_id'] == image_id:\n",
    "            captions.append(caption['caption'])\n",
    "    if tokenizer is None:\n",
    "        return captions\n",
    "    else:\n",
    "        return tokenizer.texts_to_sequences(captions)\n",
    "\n",
    "def get_all_captions_by_image_ids(image_ids, tokenizer=None):\n",
    "    return [get_all_captions_by_image_id(img_id, tokenizer) for img_id in image_ids]"
   ]
  },
  {
   "cell_type": "code",
   "execution_count": 52,
   "metadata": {},
   "outputs": [
    {
     "data": {
      "text/plain": [
       "[\"A note is placed near a toilet with it's seat up. \",\n",
       " 'Graffiti on an open door to a restroom stall.',\n",
       " 'A white toilet in a very small room.',\n",
       " 'Black and white photograph of a doorway view into a bathroom.',\n",
       " 'A bathroom door is open and has writing on it.']"
      ]
     },
     "execution_count": 52,
     "metadata": {},
     "output_type": "execute_result"
    }
   ],
   "source": [
    "captions = get_all_captions_by_image_id(X_train[0])\n",
    "captions"
   ]
  },
  {
   "cell_type": "markdown",
   "metadata": {},
   "source": [
    "# Preprocessing"
   ]
  },
  {
   "cell_type": "markdown",
   "metadata": {},
   "source": [
    "## Encoder Preprocessing\n",
    "\n",
    "We are going to use inceptionV3 model and hence its processing\n",
    "\n",
    "1. We will load the image from the ID.\n",
    "2. Resize the image to 299x299\n",
    "3. Preprocess using InceptionV3 preprocess function"
   ]
  },
  {
   "cell_type": "code",
   "execution_count": 9,
   "metadata": {},
   "outputs": [],
   "source": [
    "def preprocess_image(image_id):\n",
    "    image_path = PATH + 'COCO_train2014_' + '%012d.jpg' % (image_id)\n",
    "    img = tf.io.read_file(image_path)\n",
    "    img = tf.image.decode_jpeg(img, channels=3)\n",
    "    img = tf.image.resize(img, (299, 299))\n",
    "    img = tf.keras.applications.inception_v3.preprocess_input(img)\n",
    "    return img, image_path\n",
    "\n",
    "def preprocess_images(image_ids):\n",
    "    processed_images = np.zeros((len(image_ids), 299, 299, 3), dtype=np.float32)\n",
    "    for i, img_id in enumerate(image_ids):\n",
    "        processed_images[i], _ = preprocess_image(img_id)\n",
    "    return processed_images"
   ]
  },
  {
   "cell_type": "markdown",
   "metadata": {},
   "source": [
    "## Decoder Preprocessing\n",
    "\n",
    "As usual, we need to:\n",
    "\n",
    "1. Split, clean and tokenize the texts to build the vocabulary.\n",
    "2. Constrain number of words to most common words and add the rest of words to Out-of-Vocabulary bucket.\n",
    "3. Convert the texts to sequences.\n",
    "4. Pad the texts to maximum"
   ]
  },
  {
   "cell_type": "code",
   "execution_count": 10,
   "metadata": {},
   "outputs": [],
   "source": [
    "top_k = dataset_config['top_common_words']\n",
    "tokenizer = tf.keras.preprocessing.text.Tokenizer(num_words=top_k, oov_token=\"<UNK>\", filters='!\"#$%&()*+.,-/:;=?@[\\]^_`{|}~\\'')\n",
    "tokenizer.fit_on_texts(y_train)\n",
    "\n",
    "tokenizer.word_index['<pad>'] = 0\n",
    "tokenizer.index_word[0] = '<pad>'\n",
    "\n",
    "y_train = tokenizer.texts_to_sequences(y_train)\n",
    "y_valid = tokenizer.texts_to_sequences(y_valid)\n",
    "y_test = tokenizer.texts_to_sequences(y_test)\n",
    "\n",
    "y_train = tf.keras.preprocessing.sequence.pad_sequences(y_train, padding=\"post\")\n",
    "max_length = y_train.shape[-1]\n",
    "\n",
    "y_valid = tf.keras.preprocessing.sequence.pad_sequences(y_valid, padding=\"post\", maxlen=max_length)\n",
    "y_test = tf.keras.preprocessing.sequence.pad_sequences(y_test, padding=\"post\", maxlen=max_length)"
   ]
  },
  {
   "cell_type": "markdown",
   "metadata": {},
   "source": [
    "# Create Dataset"
   ]
  },
  {
   "cell_type": "code",
   "execution_count": 11,
   "metadata": {},
   "outputs": [],
   "source": [
    "def preprocess(enc_input, dec_input,):\n",
    "    enc_input, _ = preprocess_image(enc_input)\n",
    "    return enc_input, dec_input\n",
    "\n",
    "def set_shapes(img, cap, img_shape, cap_shape):\n",
    "    img.set_shape(img_shape)\n",
    "    cap.set_shape(cap_shape)\n",
    "    return img, cap\n",
    "\n",
    "def create_shifted_target(y):\n",
    "    \"remove the start token and append a padding to the end.\"\n",
    "    return y[:, :-1], y[:, 1:]"
   ]
  },
  {
   "cell_type": "code",
   "execution_count": 12,
   "metadata": {},
   "outputs": [],
   "source": [
    "batch_size = dataset_config['batch_size']\n",
    "buffer_size = 1000\n",
    "img_shape = (299, 299, 3)\n",
    "cap_shape = (max_length-1,)\n",
    "\n",
    "dec_input, train_target = create_shifted_target(y_train)\n",
    "attention_weights = np.zeros((len(dec_input)), dtype=np.float32)\n",
    "\n",
    "dataset_input = tf.data.Dataset.from_tensor_slices((X_train, dec_input))\n",
    "dataset_target = tf.data.Dataset.from_tensor_slices((train_target, attention_weights))\n",
    "\n",
    "\n",
    "# Use map to load the numpy files in parallel\n",
    "dataset_input = dataset_input.map(lambda item1, item2: tf.py_function(\n",
    "                preprocess, [item1, item2], (tf.float32, tf.int32)),\n",
    "                num_parallel_calls=tf.data.experimental.AUTOTUNE)\n",
    "\n",
    "# when the preprocessing is done in py_function or numpy_function, the shapes are lost!\n",
    "# so we have to set the shape again for the input.\n",
    "dataset_input = dataset_input.map(lambda item1, item2: set_shapes(item1, item2, img_shape, cap_shape))\n",
    "\n",
    "# Shuffle and batch\n",
    "dataset = tf.data.Dataset.zip((dataset_input, dataset_target))\n",
    "dataset = dataset.shuffle(buffer_size).batch(batch_size, drop_remainder=True).repeat().prefetch(tf.data.experimental.AUTOTUNE)"
   ]
  },
  {
   "cell_type": "code",
   "execution_count": 13,
   "metadata": {},
   "outputs": [],
   "source": [
    "dec_input_valid, train_target_valid = create_shifted_target(y_valid)\n",
    "attention_weights = np.zeros((len(dec_input_valid)), dtype=np.float32)\n",
    "\n",
    "dataset_valid_input = tf.data.Dataset.from_tensor_slices((X_valid, dec_input_valid))\n",
    "dataset_valid_target = tf.data.Dataset.from_tensor_slices((train_target_valid, attention_weights))\n",
    "\n",
    "dataset_valid_input = dataset_valid_input.map(lambda item1, item2: tf.py_function(preprocess, [item1, item2], (tf.float32, tf.int32)), \n",
    "                                              num_parallel_calls=tf.data.experimental.AUTOTUNE)\n",
    "\n",
    "dataset_valid_input = dataset_valid_input.map(lambda item1, item2: set_shapes(item1, item2, img_shape, cap_shape))\n",
    "dataset_valid = tf.data.Dataset.zip((dataset_valid_input, dataset_valid_target)).batch(batch_size).repeat().prefetch(tf.data.experimental.AUTOTUNE)"
   ]
  },
  {
   "cell_type": "markdown",
   "metadata": {},
   "source": [
    "# Build Model"
   ]
  },
  {
   "cell_type": "code",
   "execution_count": 14,
   "metadata": {},
   "outputs": [],
   "source": [
    "model_config = config['model']\n",
    "epochs = model_config['epochs']\n",
    "embedding_dim = model_config['embedding_dim']\n",
    "units = model_config['units']\n",
    "attention = model_config['attention']\n",
    "\n",
    "train_size = len(X_train)\n",
    "valid_size = len(X_valid)\n",
    "steps_per_epoch = train_size // batch_size\n",
    "vocab_size = len(tokenizer.word_index) + 1\n",
    "\n",
    "# Shape of the vector extracted from InceptionV3 is (None, 8, 8, 2048)\n",
    "# we will reshape it to (None, 64, 2048) and feed it to model.\n",
    "# These two variables represent that vector shape\n",
    "features_shape = 2048\n",
    "attention_features_shape = 64  # we could leave this as -1 as well.\n",
    "inception_shape = (attention_features_shape, features_shape)"
   ]
  },
  {
   "cell_type": "code",
   "execution_count": 15,
   "metadata": {},
   "outputs": [],
   "source": [
    "from model import ImageCaption\n",
    "\n",
    "# loss to not compute the attention to the actual loss\n",
    "def neglected_loss(y_true, y_pred):\n",
    "    return tf.constant(0, dtype=tf.float32)\n",
    "\n",
    "model = ImageCaption(inception_shape, vocab_size, embedding_dim, units)\n",
    "model.compile(optimizer='adam', loss=[\"sparse_categorical_crossentropy\", neglected_loss], metrics=[['accuracy'], []], loss_weights=[1., 0.])"
   ]
  },
  {
   "cell_type": "code",
   "execution_count": 16,
   "metadata": {},
   "outputs": [
    {
     "name": "stdout",
     "output_type": "stream",
     "text": [
      "Train for 4141 steps, validate for 1035 steps\n",
      "Epoch 1/50\n",
      "4141/4141 [==============================] - 2473s 597ms/step - loss: 0.7224 - output_1_loss: 0.7224 - output_2_loss: 0.0000e+00 - output_1_accuracy: 0.8656 - val_loss: 0.6198 - val_output_1_loss: 0.6198 - val_output_2_loss: 0.0000e+00 - val_output_1_accuracy: 0.8761\n",
      "Epoch 2/50\n",
      "4141/4141 [==============================] - 1861s 449ms/step - loss: 0.5847 - output_1_loss: 0.5847 - output_2_loss: 0.0000e+00 - output_1_accuracy: 0.8793 - val_loss: 0.5981 - val_output_1_loss: 0.5981 - val_output_2_loss: 0.0000e+00 - val_output_1_accuracy: 0.8785\n",
      "Epoch 3/50\n",
      "4141/4141 [==============================] - 1860s 449ms/step - loss: 0.5448 - output_1_loss: 0.5448 - output_2_loss: 0.0000e+00 - output_1_accuracy: 0.8832 - val_loss: 0.5968 - val_output_1_loss: 0.5968 - val_output_2_loss: 0.0000e+00 - val_output_1_accuracy: 0.8795\n",
      "Epoch 4/50\n",
      "4141/4141 [==============================] - 1850s 447ms/step - loss: 0.5145 - output_1_loss: 0.5145 - output_2_loss: 0.0000e+00 - output_1_accuracy: 0.8867 - val_loss: 0.6043 - val_output_1_loss: 0.6043 - val_output_2_loss: 0.0000e+00 - val_output_1_accuracy: 0.8788\n",
      "Epoch 5/50\n",
      "4141/4141 [==============================] - 1858s 449ms/step - loss: 0.4910 - output_1_loss: 0.4910 - output_2_loss: 0.0000e+00 - output_1_accuracy: 0.8899 - val_loss: 0.6171 - val_output_1_loss: 0.6171 - val_output_2_loss: 0.0000e+00 - val_output_1_accuracy: 0.8786\n",
      "Epoch 6/50\n",
      "4141/4141 [==============================] - 1861s 449ms/step - loss: 0.4662 - output_1_loss: 0.4662 - output_2_loss: 0.0000e+00 - output_1_accuracy: 0.8935 - val_loss: 0.6321 - val_output_1_loss: 0.6321 - val_output_2_loss: 0.0000e+00 - val_output_1_accuracy: 0.8779\n",
      "Epoch 7/50\n",
      "4141/4141 [==============================] - 1884s 455ms/step - loss: 0.4457 - output_1_loss: 0.4457 - output_2_loss: 0.0000e+00 - output_1_accuracy: 0.8968 - val_loss: 0.6632 - val_output_1_loss: 0.6632 - val_output_2_loss: 0.0000e+00 - val_output_1_accuracy: 0.8760\n",
      "Epoch 8/50\n",
      "4141/4141 [==============================] - 1863s 450ms/step - loss: 0.4290 - output_1_loss: 0.4290 - output_2_loss: 0.0000e+00 - output_1_accuracy: 0.8996 - val_loss: 0.6697 - val_output_1_loss: 0.6697 - val_output_2_loss: 0.0000e+00 - val_output_1_accuracy: 0.8761\n",
      "Epoch 9/50\n",
      "4141/4141 [==============================] - 1832s 442ms/step - loss: 0.3701 - output_1_loss: 0.3701 - output_2_loss: 0.0000e+00 - output_1_accuracy: 0.9103 - val_loss: 0.6519 - val_output_1_loss: 0.6519 - val_output_2_loss: 0.0000e+00 - val_output_1_accuracy: 0.8796\n",
      "Epoch 10/50\n",
      "4141/4141 [==============================] - 1809s 437ms/step - loss: 0.3426 - output_1_loss: 0.3426 - output_2_loss: 0.0000e+00 - output_1_accuracy: 0.9158 - val_loss: 0.6615 - val_output_1_loss: 0.6615 - val_output_2_loss: 0.0000e+00 - val_output_1_accuracy: 0.8792\n",
      "Epoch 11/50\n",
      "4140/4141 [============================>.] - ETA: 0s - loss: 0.3293 - output_1_loss: 0.3293 - output_2_loss: 0.0000e+00 - output_1_accuracy: 0.9187Restoring model weights from the end of the best epoch.\n",
      "4141/4141 [==============================] - 1810s 437ms/step - loss: 0.3293 - output_1_loss: 0.3293 - output_2_loss: 0.0000e+00 - output_1_accuracy: 0.9187 - val_loss: 0.6728 - val_output_1_loss: 0.6728 - val_output_2_loss: 0.0000e+00 - val_output_1_accuracy: 0.8785\n",
      "Epoch 00011: early stopping\n"
     ]
    }
   ],
   "source": [
    "steps_per_epoch = train_size // batch_size\n",
    "validation_steps = valid_size // batch_size\n",
    "\n",
    "callbacks = [tf.keras.callbacks.ModelCheckpoint(\"./checkpoints/best_model.h5\", save_best_only=True),\n",
    "             tf.keras.callbacks.ReduceLROnPlateau(patience=5),\n",
    "             tf.keras.callbacks.EarlyStopping(patience=8, restore_best_weights=True, verbose=True)]\n",
    "\n",
    "history = model.fit(dataset, epochs=epochs, steps_per_epoch=steps_per_epoch)\n",
    "                    #validation_data=dataset_valid, validation_steps=validation_steps,\n",
    "                    #callbacks=callbacks)"
   ]
  },
  {
   "cell_type": "code",
   "execution_count": 17,
   "metadata": {},
   "outputs": [
    {
     "data": {
      "image/png": "[encoded data removed]",
      "text/plain": [
       "<Figure size 432x288 with 1 Axes>"
      ]
     },
     "metadata": {
      "needs_background": "light"
     },
     "output_type": "display_data"
    }
   ],
   "source": [
    "from helpers.logging import plot_learning_curve\n",
    "\n",
    "plot_learning_curve(history)"
   ]
  },
  {
   "cell_type": "markdown",
   "metadata": {},
   "source": [
    "# Saving Model"
   ]
  },
  {
   "cell_type": "markdown",
   "metadata": {},
   "source": [
    "# Evaluation\n",
    "\n",
    "The evaluation function consists of the following:\n",
    "\n",
    "- Similar to step function, except we don't do teacher forcing.\n",
    "- Store the attention weights for every time step"
   ]
  },
  {
   "cell_type": "code",
   "execution_count": 25,
   "metadata": {},
   "outputs": [],
   "source": [
    "def predict(img_ids, target_tokenizer, sos_token=\"<sos>\"):\n",
    "    enc_inputs = preprocess_images(img_ids)\n",
    "    y_preds = tf.fill(dims=(len(img_ids), 1), value=target_tokenizer.word_index[sos_token])\n",
    "    attention_weights = np.zeros((len(img_ids), max_length, attention_features_shape))\n",
    "    for i in range(max_length):\n",
    "        pad_size = max_length - y_preds.shape[1]\n",
    "        dec_input = tf.pad(y_preds, [[0, 0], [0, pad_size]])\n",
    "        y_probs_next, step_attention_weights = model.predict((enc_inputs, dec_input))\n",
    "        attention_weights[:, i, :] = step_attention_weights[:, i, :]\n",
    "        y_probs_next = y_probs_next[:, i:i+1]  # we only care about the current state\n",
    "        y_pred_next = tf.argmax(y_probs_next, axis=-1, output_type=tf.int32)\n",
    "        y_preds = tf.concat([y_preds, y_pred_next], axis=1)\n",
    "    return y_preds[:, 1:], attention_weights  # remove the <sos> token from results"
   ]
  },
  {
   "cell_type": "code",
   "execution_count": 31,
   "metadata": {},
   "outputs": [],
   "source": [
    "results, _ = predict(X_test[:10], tokenizer)"
   ]
  },
  {
   "cell_type": "code",
   "execution_count": 64,
   "metadata": {},
   "outputs": [],
   "source": [
    "def evaluate(img_ids, target_tokenizer, sos_token=\"<sos>\"):\n",
    "    real_captions = get_all_captions_by_image_ids(img_ids, tokenizer=target_tokenizer)\n",
    "    predicted_captions, _ = predict(img_ids, target_tokenizer, sos_token=sos_token)\n",
    "    \n",
    "    padding_indices = np.argwhere(results == tokenizer.texts_to_sequences([\"<eos>\"]))[:, 1]\n",
    "    \n",
    "    bleu = compute_bleu(real_captions, predicted_captions.numpy(), padding_indices, max_order=3)\n",
    "    return bleu"
   ]
  },
  {
   "cell_type": "code",
   "execution_count": 65,
   "metadata": {},
   "outputs": [],
   "source": [
    "bleu = evaluate(X_test[:10], tokenizer)"
   ]
  },
  {
   "cell_type": "code",
   "execution_count": 66,
   "metadata": {},
   "outputs": [
    {
     "name": "stdout",
     "output_type": "stream",
     "text": [
      "bleu: 0.4032416324380917\tbleu1: 0.7333333333333333\tbleu2: 0.4\tbleu 3: 0.2235294117647059\n"
     ]
    }
   ],
   "source": [
    "print(\"bleu: {}\\tbleu1: {}\\tbleu2: {}\\tbleu 3: {}\".format(bleu[0], bleu[1][0], bleu[1][1], bleu[1][2]))"
   ]
  },
  {
   "cell_type": "code",
   "execution_count": 120,
   "metadata": {},
   "outputs": [],
   "source": [
    "def plot_attention(image_id, result, attention_plot):\n",
    "    result = result.split(\" \")\n",
    "    image = PATH + 'COCO_train2014_' + '%012d.jpg' % (image_id)\n",
    "    temp_image = np.array(Image.open(image))\n",
    "\n",
    "    fig = plt.figure(figsize=(60, 60))\n",
    "\n",
    "    len_result = len(result)\n",
    "    for l in range(len_result):\n",
    "        temp_att = np.resize(attention_plot[l], (8, 8))\n",
    "        ax = fig.add_subplot(len_result//2+1, len_result//2 +1, l+1)\n",
    "        ax.set_title(result[l])\n",
    "        img = ax.imshow(temp_image)\n",
    "        ax.imshow(temp_att, cmap='gray', alpha=0.6, extent=img.get_extent())\n",
    "\n",
    "    plt.tight_layout()\n",
    "    plt.show()"
   ]
  },
  {
   "cell_type": "code",
   "execution_count": 121,
   "metadata": {},
   "outputs": [],
   "source": [
    "def caption(image_id, tokenizer, verbose=True):    \n",
    "    real_captions = get_all_captions_by_image_ids([image_id], tokenizer=tokenizer)\n",
    "    predict_caption, attention_weights = predict([image_id], tokenizer)\n",
    "    padding_indices = np.argwhere(predict_caption == tokenizer.texts_to_sequences([\"<eos>\"]))[:, 1]\n",
    "    \n",
    "    bleu = compute_bleu(real_captions, predict_caption.numpy(), padding_indices, max_order=3)\n",
    "    \n",
    "    padding_index = padding_indices[0]\n",
    "    references = tokenizer.sequences_to_texts(real_captions[0])\n",
    "    translation = tokenizer.sequences_to_texts(predict_caption.numpy()[:, :padding_index+1])[0]\n",
    "    \n",
    "    if verbose:\n",
    "        print ('Real Caption:', references)\n",
    "        print ('Prediction Caption:', translation)\n",
    "        print(\"bleu result:\", bleu)\n",
    "        plot_attention(image_id, translation, \n",
    "                       attention_weights[0, :padding_index+1])\n",
    "    \n",
    "    return bleu\n",
    "\n",
    "def caption_by_index(image_index, tokenizer, verbose=True):\n",
    "    image_id = X_test[image_index]\n",
    "    if verbose:\n",
    "        print(\"processing image id:\", image_id, \"that have index of:\", image_index)\n",
    "    caption(image_id, tokenizer, verbose)"
   ]
  },
  {
   "cell_type": "code",
   "execution_count": null,
   "metadata": {},
   "outputs": [],
   "source": [
    "caption_by_index(np.random.randint(0, 200), tokenizer)"
   ]
  },
  {
   "cell_type": "markdown",
   "metadata": {},
   "source": [
    "## ToDos:\n",
    "\n",
    "- Train on multiple captions of the same image.\n",
    "- Transfer learning of a better embedding layer."
   ]
  }
 ],
 "metadata": {
  "kernelspec": {
   "display_name": "Python 3",
   "language": "python",
   "name": "python3"
  },
  "language_info": {
   "codemirror_mode": {
    "name": "ipython",
    "version": 3
   },
   "file_extension": ".py",
   "mimetype": "text/x-python",
   "name": "python",
   "nbconvert_exporter": "python",
   "pygments_lexer": "ipython3",
   "version": "3.7.6"
  }
 },
 "nbformat": 4,
 "nbformat_minor": 4
}
