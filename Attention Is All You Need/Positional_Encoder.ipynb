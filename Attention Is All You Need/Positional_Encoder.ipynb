{
 "cells": [
  {
   "cell_type": "markdown",
   "metadata": {
    "colab_type": "text",
    "id": "sWpPPlcgtjVe"
   },
   "source": [
    "# Positional Encoding\n",
    "\n",
    "It is a way to encode the position of the instance in the sequence. In transformer model, the absolute and relatvie position of the instance are lost since the model treat each instance independently (Time Distributed) and the model lost the sense of sequences when we dropped RNN layers.\n",
    "\n",
    "Being that, we need somehow to encode the position of the instance and feed it to the network. Positional Encoding is a d-dimensional space that can be learned by the model, just like embeddings, however, the authors of transformer model preferred fixed positional encoding as both yields similar results and the model has less trainable parameters to learn.\n",
    "\n",
    "The authors used vector of sines and consines to encode each position, where each sin-consine pair rotates at a different frequency. The idea is to make near by positions very similar (affinity).\n",
    "\n",
    "The equation used to build the embeddings are:\n",
    "\n",
    "$$\n",
    "  \\text{PE}_{(\\text{pos}, 2i)} = \\sin(\\text{pos}/10000^{2i/d_{max}}) \\\\\n",
    "  \\text{PE}_{(\\text{pos}, 2i+1)} = \\cos(\\text{pos}/10000^{2i/d_{max}})\n",
    "$$\n",
    "\n",
    "where $d_{max}$ should be an even number"
   ]
  },
  {
   "cell_type": "code",
   "execution_count": null,
   "metadata": {
    "colab": {},
    "colab_type": "code",
    "id": "GN4Nms0gthBB"
   },
   "outputs": [],
   "source": [
    "import numpy as np\n",
    "import matplotlib.pyplot as plt"
   ]
  },
  {
   "cell_type": "code",
   "execution_count": null,
   "metadata": {
    "colab": {
     "base_uri": "https://localhost:8080/",
     "height": 34
    },
    "colab_type": "code",
    "id": "MsrJWvKBzyl6",
    "outputId": "43364039-1b42-4ff8-9b38-863701abf6b7"
   },
   "outputs": [
    {
     "name": "stdout",
     "output_type": "stream",
     "text": [
      "(50,) (256,)\n"
     ]
    }
   ],
   "source": [
    "max_seq_length = 50\n",
    "max_depth = 512\n",
    "\n",
    "assert max_depth % 2 == 0\n",
    "\n",
    "i = np.arange(max_depth // 2)\n",
    "positions = np.arange(max_seq_length)\n",
    "print(positions.shape, i.shape)"
   ]
  },
  {
   "cell_type": "code",
   "execution_count": null,
   "metadata": {
    "colab": {
     "base_uri": "https://localhost:8080/",
     "height": 34
    },
    "colab_type": "code",
    "id": "g6LFdfxS0bKn",
    "outputId": "d152237e-cee8-4ab3-931d-d4421f0b946c"
   },
   "outputs": [
    {
     "name": "stdout",
     "output_type": "stream",
     "text": [
      "(256, 50) (256, 50)\n"
     ]
    }
   ],
   "source": [
    "pos, i = np.meshgrid(positions, i)\n",
    "print(pos.shape, i.shape)"
   ]
  },
  {
   "cell_type": "code",
   "execution_count": null,
   "metadata": {
    "colab": {
     "base_uri": "https://localhost:8080/",
     "height": 119
    },
    "colab_type": "code",
    "id": "wxHvfQad02gu",
    "outputId": "475018b7-4526-4b23-85e7-f1cd66dbdc3d"
   },
   "outputs": [
    {
     "data": {
      "text/plain": [
       "(array([ 0,  1,  2,  3,  4,  5,  6,  7,  8,  9, 10, 11, 12, 13, 14, 15, 16,\n",
       "        17, 18, 19, 20, 21, 22, 23, 24, 25, 26, 27, 28, 29, 30, 31, 32, 33,\n",
       "        34, 35, 36, 37, 38, 39, 40, 41, 42, 43, 44, 45, 46, 47, 48, 49]),\n",
       " array([1, 1, 1, 1, 1, 1, 1, 1, 1, 1, 1, 1, 1, 1, 1, 1, 1, 1, 1, 1, 1, 1,\n",
       "        1, 1, 1, 1, 1, 1, 1, 1, 1, 1, 1, 1, 1, 1, 1, 1, 1, 1, 1, 1, 1, 1,\n",
       "        1, 1, 1, 1, 1, 1]))"
      ]
     },
     "execution_count": 12,
     "metadata": {
      "tags": []
     },
     "output_type": "execute_result"
    }
   ],
   "source": [
    "pos[1], i[1]"
   ]
  },
  {
   "cell_type": "code",
   "execution_count": null,
   "metadata": {
    "colab": {},
    "colab_type": "code",
    "id": "Iy_z4BKs05Pu"
   },
   "outputs": [],
   "source": [
    "position_embed = np.empty((max_seq_length, max_depth))\n",
    "# apply sin to even indices in the array\n",
    "position_embed[:, 0::2] = np.sin(pos / 10000**(2 * i / max_depth)).T\n",
    "# apply cos to odd indices in the array\n",
    "position_embed[:, 1::2] = np.sin(pos / 10000**(2 * i / max_depth)).T"
   ]
  },
  {
   "cell_type": "markdown",
   "metadata": {
    "colab_type": "text",
    "id": "8Cw1f1LR4xcX"
   },
   "source": [
    "To identify that the closer positions have higher similarity than further positions:"
   ]
  },
  {
   "cell_type": "code",
   "execution_count": null,
   "metadata": {
    "colab": {
     "base_uri": "https://localhost:8080/",
     "height": 483
    },
    "colab_type": "code",
    "id": "WszaSxwD42Wn",
    "outputId": "4ae0e279-df83-444d-849a-c22a3895d462"
   },
   "outputs": [
    {
     "data": {
      "image/png": "[encoded data removed]",
      "text/plain": [
       "<Figure size 720x576 with 1 Axes>"
      ]
     },
     "metadata": {
      "needs_background": "light",
      "tags": []
     },
     "output_type": "display_data"
    }
   ],
   "source": [
    "# taking a position at the middle\n",
    "a_pos = max_seq_length // 2\n",
    "pos = position_embed[a_pos]\n",
    "# we will check similarity by using the dot product\n",
    "dots = np.dot(position_embed, pos)\n",
    "# we plot the similarity now:\n",
    "plt.figure(figsize=(10,8))\n",
    "plt.plot(dots)\n",
    "plt.show()"
   ]
  },
  {
   "cell_type": "code",
   "execution_count": null,
   "metadata": {
    "colab": {},
    "colab_type": "code",
    "id": "f6d9q01c65H_"
   },
   "outputs": [],
   "source": [
    "import tensorflow as tf\n",
    "from warnings import warn\n",
    "\n",
    "class PositionalEncoding(tf.keras.layers.Layer):\n",
    "    \n",
    "    def __init__(self, max_length, max_depth, min_rate=1/10000, **kwargs):\n",
    "        super(PositionalEncoding, self).__init__(**kwargs)\n",
    "        if max_depth % 2 != 0:\n",
    "            warnings.warn(\"max_depth should be even, max_depth is incremented!\")\n",
    "            max_depth += 1\n",
    "\n",
    "        pos = np.arange(max_length)\n",
    "        i = np.arange(max_depth // 2)\n",
    "        pos, i = np.meshgrid(pos, i)  # build the meshgrid of both pos and i\n",
    "        embedding = np.empty((max_length, max_depth))\n",
    "        embedding[:, ::2] = np.sin(pos * min_rate**(2 * i / max_depth)).T\n",
    "        embedding[:, 1::2] = np.cos(pos * min_rate**(2 * i / max_depth)).T\n",
    "        # new axis is added for batches dimension\n",
    "        # as we would like to broadcast positional embedding for all instance in\n",
    "        # the batch\n",
    "        self.positional_embedding = tf.constant(embedding[np.newaxis, ...])\n",
    "  \n",
    "    def call(self, x):\n",
    "        return x + self.positional_embedding"
   ]
  },
  {
   "cell_type": "code",
   "execution_count": 35,
   "metadata": {
    "colab": {
     "base_uri": "https://localhost:8080/",
     "height": 34
    },
    "colab_type": "code",
    "id": "Yn8rBspc9wXh",
    "outputId": "914606a0-1c1f-4999-9176-9017645d5863"
   },
   "outputs": [
    {
     "data": {
      "text/plain": [
       "TensorShape([1, 50, 512])"
      ]
     },
     "execution_count": 35,
     "metadata": {
      "tags": []
     },
     "output_type": "execute_result"
    }
   ],
   "source": [
    "pos_encoder = PositionalEncoding(50, 512)\n",
    "pos_encoder.positional_embedding.shape"
   ]
  },
  {
   "cell_type": "markdown",
   "metadata": {
    "colab_type": "text",
    "id": "1QX8zLaY-Oib"
   },
   "source": [
    "With that, The embedding layer will learn the relative position of the words (how the words are close in meaning) where as the positional layer will learn the absolute position of the word. Adding them together should shift the words and make it easier for the model to find similiarty and determine where to focus its attention while predicting the target."
   ]
  },
  {
   "cell_type": "code",
   "execution_count": null,
   "metadata": {
    "colab": {},
    "colab_type": "code",
    "id": "2RwQ9ZDp-sat"
   },
   "outputs": [],
   "source": []
  }
 ],
 "metadata": {
  "colab": {
   "collapsed_sections": [],
   "name": "Positional Encoder.ipynb",
   "provenance": []
  },
  "kernelspec": {
   "display_name": "Python 3",
   "language": "python",
   "name": "python3"
  },
  "language_info": {
   "codemirror_mode": {
    "name": "ipython",
    "version": 3
   },
   "file_extension": ".py",
   "mimetype": "text/x-python",
   "name": "python",
   "nbconvert_exporter": "python",
   "pygments_lexer": "ipython3",
   "version": "3.7.7"
  }
 },
 "nbformat": 4,
 "nbformat_minor": 4
}
